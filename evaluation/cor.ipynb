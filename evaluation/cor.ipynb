{
  "nbformat": 4,
  "nbformat_minor": 0,
  "metadata": {
    "colab": {
      "name": "cor.ipynb",
      "provenance": []
    },
    "kernelspec": {
      "name": "python3",
      "display_name": "Python 3"
    },
    "language_info": {
      "name": "python"
    }
  },
  "cells": [
    {
      "cell_type": "code",
      "source": [
        "from google.colab import drive\n",
        "drive.mount('/content/drive')"
      ],
      "metadata": {
        "colab": {
          "base_uri": "https://localhost:8080/"
        },
        "id": "-0Or4F4wdRtO",
        "outputId": "3314b9f8-f878-40bb-8fcb-9d0a1db4194f"
      },
      "execution_count": null,
      "outputs": [
        {
          "output_type": "stream",
          "name": "stdout",
          "text": [
            "Mounted at /content/drive\n"
          ]
        }
      ]
    },
    {
      "cell_type": "code",
      "source": [
        "import pandas as pd\n",
        "\n",
        "df1 = pd.read_csv('/content/drive/MyDrive/forCorrelation/robot_inter_metric_correlation.csv')\n",
        "df2 = pd.read_csv('/content/drive/MyDrive/forCorrelation/robothow_metric_correlation.csv')\n",
        "df3 = pd.read_csv('/content/drive/MyDrive/forCorrelation/wiki_inter_metric_correlation.csv')\n",
        "df4 = pd.read_csv('/content/drive/MyDrive/forCorrelation/wikihow_metric_correlation.csv')\n",
        "\n",
        "df = pd.concat([df2, df4], ignore_index=True)"
      ],
      "metadata": {
        "id": "J_OtvHrKdSJ2"
      },
      "execution_count": null,
      "outputs": []
    },
    {
      "cell_type": "code",
      "source": [
        "df.head(8)"
      ],
      "metadata": {
        "colab": {
          "base_uri": "https://localhost:8080/",
          "height": 300
        },
        "id": "PQji16_vd_Lr",
        "outputId": "c917dc67-bbcd-445f-8e94-2a377cb9c626"
      },
      "execution_count": null,
      "outputs": [
        {
          "output_type": "execute_result",
          "data": {
            "text/plain": [
              "    method_type    s_bleu       wmd   bert_f1  rouge-1-f1  bert_f1_norm  \\\n",
              "0     gpt-chain  0.089155  0.935885  0.880097    0.379310      0.640790   \n",
              "1   gpt-planner  0.000620  0.891408  0.849954    0.279070      0.550483   \n",
              "2   gpt-concept  0.000005  0.789479  0.772402    0.205128      0.318150   \n",
              "3    bart-chain  0.002427  0.924310  0.840993    0.311111      0.523639   \n",
              "4  bart-planner  0.004517  0.937293  0.875731    0.444444      0.627710   \n",
              "5  bart-concept  0.004517  0.937293  0.875731    0.444444      0.627710   \n",
              "6     gpt-chain  0.089155  0.935885  0.880097    0.379310      0.640790   \n",
              "7   gpt-planner  0.000620  0.891408  0.849954    0.279070      0.550483   \n",
              "\n",
              "   rouge_l_f1     mover  human_plan  human_order  \n",
              "0    0.379310  0.435707           4            4  \n",
              "1    0.279070  0.472225           3            4  \n",
              "2    0.205128  0.500717           2            2  \n",
              "3    0.311111  0.464947           3            2  \n",
              "4    0.444444  0.467643           3            5  \n",
              "5    0.444444  0.467643           3            5  \n",
              "6    0.379310  0.435707           3            5  \n",
              "7    0.279070  0.472225           4            4  "
            ],
            "text/html": [
              "\n",
              "  <div id=\"df-872bc1c3-2264-4d0e-914a-ee0422a4a5ec\">\n",
              "    <div class=\"colab-df-container\">\n",
              "      <div>\n",
              "<style scoped>\n",
              "    .dataframe tbody tr th:only-of-type {\n",
              "        vertical-align: middle;\n",
              "    }\n",
              "\n",
              "    .dataframe tbody tr th {\n",
              "        vertical-align: top;\n",
              "    }\n",
              "\n",
              "    .dataframe thead th {\n",
              "        text-align: right;\n",
              "    }\n",
              "</style>\n",
              "<table border=\"1\" class=\"dataframe\">\n",
              "  <thead>\n",
              "    <tr style=\"text-align: right;\">\n",
              "      <th></th>\n",
              "      <th>method_type</th>\n",
              "      <th>s_bleu</th>\n",
              "      <th>wmd</th>\n",
              "      <th>bert_f1</th>\n",
              "      <th>rouge-1-f1</th>\n",
              "      <th>bert_f1_norm</th>\n",
              "      <th>rouge_l_f1</th>\n",
              "      <th>mover</th>\n",
              "      <th>human_plan</th>\n",
              "      <th>human_order</th>\n",
              "    </tr>\n",
              "  </thead>\n",
              "  <tbody>\n",
              "    <tr>\n",
              "      <th>0</th>\n",
              "      <td>gpt-chain</td>\n",
              "      <td>0.089155</td>\n",
              "      <td>0.935885</td>\n",
              "      <td>0.880097</td>\n",
              "      <td>0.379310</td>\n",
              "      <td>0.640790</td>\n",
              "      <td>0.379310</td>\n",
              "      <td>0.435707</td>\n",
              "      <td>4</td>\n",
              "      <td>4</td>\n",
              "    </tr>\n",
              "    <tr>\n",
              "      <th>1</th>\n",
              "      <td>gpt-planner</td>\n",
              "      <td>0.000620</td>\n",
              "      <td>0.891408</td>\n",
              "      <td>0.849954</td>\n",
              "      <td>0.279070</td>\n",
              "      <td>0.550483</td>\n",
              "      <td>0.279070</td>\n",
              "      <td>0.472225</td>\n",
              "      <td>3</td>\n",
              "      <td>4</td>\n",
              "    </tr>\n",
              "    <tr>\n",
              "      <th>2</th>\n",
              "      <td>gpt-concept</td>\n",
              "      <td>0.000005</td>\n",
              "      <td>0.789479</td>\n",
              "      <td>0.772402</td>\n",
              "      <td>0.205128</td>\n",
              "      <td>0.318150</td>\n",
              "      <td>0.205128</td>\n",
              "      <td>0.500717</td>\n",
              "      <td>2</td>\n",
              "      <td>2</td>\n",
              "    </tr>\n",
              "    <tr>\n",
              "      <th>3</th>\n",
              "      <td>bart-chain</td>\n",
              "      <td>0.002427</td>\n",
              "      <td>0.924310</td>\n",
              "      <td>0.840993</td>\n",
              "      <td>0.311111</td>\n",
              "      <td>0.523639</td>\n",
              "      <td>0.311111</td>\n",
              "      <td>0.464947</td>\n",
              "      <td>3</td>\n",
              "      <td>2</td>\n",
              "    </tr>\n",
              "    <tr>\n",
              "      <th>4</th>\n",
              "      <td>bart-planner</td>\n",
              "      <td>0.004517</td>\n",
              "      <td>0.937293</td>\n",
              "      <td>0.875731</td>\n",
              "      <td>0.444444</td>\n",
              "      <td>0.627710</td>\n",
              "      <td>0.444444</td>\n",
              "      <td>0.467643</td>\n",
              "      <td>3</td>\n",
              "      <td>5</td>\n",
              "    </tr>\n",
              "    <tr>\n",
              "      <th>5</th>\n",
              "      <td>bart-concept</td>\n",
              "      <td>0.004517</td>\n",
              "      <td>0.937293</td>\n",
              "      <td>0.875731</td>\n",
              "      <td>0.444444</td>\n",
              "      <td>0.627710</td>\n",
              "      <td>0.444444</td>\n",
              "      <td>0.467643</td>\n",
              "      <td>3</td>\n",
              "      <td>5</td>\n",
              "    </tr>\n",
              "    <tr>\n",
              "      <th>6</th>\n",
              "      <td>gpt-chain</td>\n",
              "      <td>0.089155</td>\n",
              "      <td>0.935885</td>\n",
              "      <td>0.880097</td>\n",
              "      <td>0.379310</td>\n",
              "      <td>0.640790</td>\n",
              "      <td>0.379310</td>\n",
              "      <td>0.435707</td>\n",
              "      <td>3</td>\n",
              "      <td>5</td>\n",
              "    </tr>\n",
              "    <tr>\n",
              "      <th>7</th>\n",
              "      <td>gpt-planner</td>\n",
              "      <td>0.000620</td>\n",
              "      <td>0.891408</td>\n",
              "      <td>0.849954</td>\n",
              "      <td>0.279070</td>\n",
              "      <td>0.550483</td>\n",
              "      <td>0.279070</td>\n",
              "      <td>0.472225</td>\n",
              "      <td>4</td>\n",
              "      <td>4</td>\n",
              "    </tr>\n",
              "  </tbody>\n",
              "</table>\n",
              "</div>\n",
              "      <button class=\"colab-df-convert\" onclick=\"convertToInteractive('df-872bc1c3-2264-4d0e-914a-ee0422a4a5ec')\"\n",
              "              title=\"Convert this dataframe to an interactive table.\"\n",
              "              style=\"display:none;\">\n",
              "        \n",
              "  <svg xmlns=\"http://www.w3.org/2000/svg\" height=\"24px\"viewBox=\"0 0 24 24\"\n",
              "       width=\"24px\">\n",
              "    <path d=\"M0 0h24v24H0V0z\" fill=\"none\"/>\n",
              "    <path d=\"M18.56 5.44l.94 2.06.94-2.06 2.06-.94-2.06-.94-.94-2.06-.94 2.06-2.06.94zm-11 1L8.5 8.5l.94-2.06 2.06-.94-2.06-.94L8.5 2.5l-.94 2.06-2.06.94zm10 10l.94 2.06.94-2.06 2.06-.94-2.06-.94-.94-2.06-.94 2.06-2.06.94z\"/><path d=\"M17.41 7.96l-1.37-1.37c-.4-.4-.92-.59-1.43-.59-.52 0-1.04.2-1.43.59L10.3 9.45l-7.72 7.72c-.78.78-.78 2.05 0 2.83L4 21.41c.39.39.9.59 1.41.59.51 0 1.02-.2 1.41-.59l7.78-7.78 2.81-2.81c.8-.78.8-2.07 0-2.86zM5.41 20L4 18.59l7.72-7.72 1.47 1.35L5.41 20z\"/>\n",
              "  </svg>\n",
              "      </button>\n",
              "      \n",
              "  <style>\n",
              "    .colab-df-container {\n",
              "      display:flex;\n",
              "      flex-wrap:wrap;\n",
              "      gap: 12px;\n",
              "    }\n",
              "\n",
              "    .colab-df-convert {\n",
              "      background-color: #E8F0FE;\n",
              "      border: none;\n",
              "      border-radius: 50%;\n",
              "      cursor: pointer;\n",
              "      display: none;\n",
              "      fill: #1967D2;\n",
              "      height: 32px;\n",
              "      padding: 0 0 0 0;\n",
              "      width: 32px;\n",
              "    }\n",
              "\n",
              "    .colab-df-convert:hover {\n",
              "      background-color: #E2EBFA;\n",
              "      box-shadow: 0px 1px 2px rgba(60, 64, 67, 0.3), 0px 1px 3px 1px rgba(60, 64, 67, 0.15);\n",
              "      fill: #174EA6;\n",
              "    }\n",
              "\n",
              "    [theme=dark] .colab-df-convert {\n",
              "      background-color: #3B4455;\n",
              "      fill: #D2E3FC;\n",
              "    }\n",
              "\n",
              "    [theme=dark] .colab-df-convert:hover {\n",
              "      background-color: #434B5C;\n",
              "      box-shadow: 0px 1px 3px 1px rgba(0, 0, 0, 0.15);\n",
              "      filter: drop-shadow(0px 1px 2px rgba(0, 0, 0, 0.3));\n",
              "      fill: #FFFFFF;\n",
              "    }\n",
              "  </style>\n",
              "\n",
              "      <script>\n",
              "        const buttonEl =\n",
              "          document.querySelector('#df-872bc1c3-2264-4d0e-914a-ee0422a4a5ec button.colab-df-convert');\n",
              "        buttonEl.style.display =\n",
              "          google.colab.kernel.accessAllowed ? 'block' : 'none';\n",
              "\n",
              "        async function convertToInteractive(key) {\n",
              "          const element = document.querySelector('#df-872bc1c3-2264-4d0e-914a-ee0422a4a5ec');\n",
              "          const dataTable =\n",
              "            await google.colab.kernel.invokeFunction('convertToInteractive',\n",
              "                                                     [key], {});\n",
              "          if (!dataTable) return;\n",
              "\n",
              "          const docLinkHtml = 'Like what you see? Visit the ' +\n",
              "            '<a target=\"_blank\" href=https://colab.research.google.com/notebooks/data_table.ipynb>data table notebook</a>'\n",
              "            + ' to learn more about interactive tables.';\n",
              "          element.innerHTML = '';\n",
              "          dataTable['output_type'] = 'display_data';\n",
              "          await google.colab.output.renderOutput(dataTable, element);\n",
              "          const docLink = document.createElement('div');\n",
              "          docLink.innerHTML = docLinkHtml;\n",
              "          element.appendChild(docLink);\n",
              "        }\n",
              "      </script>\n",
              "    </div>\n",
              "  </div>\n",
              "  "
            ]
          },
          "metadata": {},
          "execution_count": 153
        }
      ]
    },
    {
      "cell_type": "code",
      "source": [
        "from scipy import stats\n",
        "stats.pearsonr(df['s_bleu'], df['human_plan'])"
      ],
      "metadata": {
        "colab": {
          "base_uri": "https://localhost:8080/"
        },
        "id": "ZijeGlBIdm5A",
        "outputId": "2c4eb1a1-f46e-4e81-c35b-a95a737870df"
      },
      "execution_count": null,
      "outputs": [
        {
          "output_type": "execute_result",
          "data": {
            "text/plain": [
              "(0.16419619297350585, 2.399657084984563e-12)"
            ]
          },
          "metadata": {},
          "execution_count": 144
        }
      ]
    },
    {
      "cell_type": "code",
      "source": [
        "stats.pearsonr(df['bert_f1'], df['human_plan'])"
      ],
      "metadata": {
        "colab": {
          "base_uri": "https://localhost:8080/"
        },
        "id": "VyMIH3tsdno7",
        "outputId": "e73f100d-c849-4510-92db-e60d49b22af7"
      },
      "execution_count": null,
      "outputs": [
        {
          "output_type": "execute_result",
          "data": {
            "text/plain": [
              "(0.23278637137499703, 1.4168684793670807e-23)"
            ]
          },
          "metadata": {},
          "execution_count": 145
        }
      ]
    },
    {
      "cell_type": "code",
      "source": [
        "stats.pearsonr(df['rouge_l_f1'], df['human_plan'])"
      ],
      "metadata": {
        "colab": {
          "base_uri": "https://localhost:8080/"
        },
        "id": "4zh0OmZ6eZ0w",
        "outputId": "e0ba5b5d-6064-4f9a-9d4e-dd49a5b4a7e2"
      },
      "execution_count": null,
      "outputs": [
        {
          "output_type": "execute_result",
          "data": {
            "text/plain": [
              "(0.21134287982617375, 1.2709069491500538e-19)"
            ]
          },
          "metadata": {},
          "execution_count": 146
        }
      ]
    },
    {
      "cell_type": "code",
      "source": [
        "stats.pearsonr(df['bert_f1_norm'], df['human_plan'])"
      ],
      "metadata": {
        "colab": {
          "base_uri": "https://localhost:8080/"
        },
        "id": "vZWRHKiled6d",
        "outputId": "0493d73a-5c79-4397-89b0-185b06e83f2e"
      },
      "execution_count": null,
      "outputs": [
        {
          "output_type": "execute_result",
          "data": {
            "text/plain": [
              "(0.23278637259034998, 1.4168677100798806e-23)"
            ]
          },
          "metadata": {},
          "execution_count": 147
        }
      ]
    },
    {
      "cell_type": "code",
      "source": [
        "stats.pearsonr(df['wmd'], df['human_order'])"
      ],
      "metadata": {
        "colab": {
          "base_uri": "https://localhost:8080/"
        },
        "id": "cwUi46-EenWc",
        "outputId": "66218bae-8de2-4f7e-ffba-7ec1e9ff0fdb"
      },
      "execution_count": null,
      "outputs": [
        {
          "output_type": "execute_result",
          "data": {
            "text/plain": [
              "(0.3236269850801106, 3.6910182193047065e-45)"
            ]
          },
          "metadata": {},
          "execution_count": 148
        }
      ]
    },
    {
      "cell_type": "code",
      "source": [
        "stats.pearsonr(df['mover'], df['human_order'])"
      ],
      "metadata": {
        "colab": {
          "base_uri": "https://localhost:8080/"
        },
        "id": "n-VJxd7zetmZ",
        "outputId": "8a8b8e55-b5b5-4540-e41f-16184d73a184"
      },
      "execution_count": null,
      "outputs": [
        {
          "output_type": "execute_result",
          "data": {
            "text/plain": [
              "(-0.3417024976196068, 1.8346106231336776e-50)"
            ]
          },
          "metadata": {},
          "execution_count": 149
        }
      ]
    }
  ]
}